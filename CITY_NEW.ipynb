{
 "cells": [
  {
   "cell_type": "code",
   "execution_count": 1,
   "id": "86ad5d2a",
   "metadata": {},
   "outputs": [],
   "source": [
    "import pandas as pd\n",
    "import matplotlib.pyplot as plt\n",
    "import numpy as np\n",
    "plt.rcParams[\"figure.figsize\"] = (20,10)"
   ]
  },
  {
   "cell_type": "code",
   "execution_count": 18,
   "id": "584db98d-b185-4724-967a-1bbbebf4e31d",
   "metadata": {},
   "outputs": [],
   "source": [
    "# import numpy as np\n",
    "# def prediction_lin(df, df_expended,column_name):\n",
    "#     from sklearn import mixture\n",
    "#     from sklearn.preprocessing import PolynomialFeatures\n",
    "#     from sklearn.pipeline import make_pipeline\n",
    "#     from sklearn.linear_model import LinearRegression, BayesianRidge\n",
    "#     #regr = LinearRegression()\n",
    "#     from sklearn.ensemble import RandomForestRegressor\n",
    "#     regr = RandomForestRegressor(max_depth=4)\n",
    "\n",
    "\n",
    "\n",
    "#     df['months_from_start'] = (df.index - df.index[0])\n",
    "#     df_expended['months_from_start'] = (df_expended.index - df_expended.index[0])\n",
    "\n",
    "#     x = df['months_from_start'].values.reshape(-1, 1)\n",
    "#     y = df[column_name].values\n",
    "#     regr.fit(x, y)\n",
    "\n",
    "#     z = df_expended['months_from_start'].values.reshape(-1, 1)\n",
    "\n",
    "# # Make predictions using the testing set\n",
    "#     pred = regr.predict(z)\n",
    "    \n",
    "#     return pred"
   ]
  },
  {
   "cell_type": "code",
   "execution_count": 19,
   "id": "34c65c16",
   "metadata": {},
   "outputs": [],
   "source": [
    "# def plot_1(x, y,x_ex, y_pred, name_save):\n",
    "    \n",
    "#     plt.scatter(x, y,  color='black',label = 'Measured')\n",
    "#     plt.plot(x_ex, y_pred, color='blue', linewidth=3,label='Predicted')\n",
    "#     plt.legend(fontsize = 25)\n",
    "#     plt.xlabel('Time [year]',fontsize = 25)\n",
    "#     plt.ylabel('Temperature [F]',fontsize = 25)\n",
    "#     plt.yticks(fontsize=25)\n",
    "#     plt.xticks(fontsize=25)\n",
    "#     #plt.axhline(y=32, color='r', linestyle='-')\n",
    "#     plt.savefig(name_save+'.png',dpi=400)\n",
    "    \n",
    "#     plt.show()\n",
    "    \n",
    "    "
   ]
  },
  {
   "cell_type": "code",
   "execution_count": 20,
   "id": "15bb393b",
   "metadata": {},
   "outputs": [],
   "source": [
    "\n",
    "# predictions_min = prediction_lin(df_min,expended,'min')\n",
    "# predictions_min_la = prediction_lin(df_min_la,expended_la,'min')\n",
    "\n",
    "# plot_1(df_min['Date'], df_min['min'], expended['expended date'],predictions_min, 'min_temp')\n",
    "# plot_1(df_min_la['Date'], df_min_la['min'], expended_la['expended date'],predictions_min_la, 'min_temp')\n",
    "\n"
   ]
  },
  {
   "cell_type": "code",
   "execution_count": 21,
   "id": "5ebf5627",
   "metadata": {},
   "outputs": [],
   "source": [
    "\n",
    "# predictions_max = prediction_lin(df_max,expended,'max')\n",
    "\n",
    "# plot_1(df_max['Date'], df_max['max'], expended['expended date'],predictions_max, 'max_temp')\n",
    "\n",
    "# predictions_max_la = prediction_lin(df_max_la,expended_la,'max')\n",
    "\n",
    "# plot_1(df_max_la['Date'], df_max_la['max'], expended_la['expended date'],predictions_max_la, 'max_temp')"
   ]
  },
  {
   "cell_type": "code",
   "execution_count": 22,
   "id": "e0a7806b-a610-40e8-8052-102fc48ee44c",
   "metadata": {},
   "outputs": [],
   "source": [
    "\n",
    "# predictions = prediction_lin(df,expended_m,'average')\n",
    "# predictions_la = prediction_lin(df_la,expended_m_la,'average')\n",
    "\n",
    "\n",
    "# plot_1(df['Date'], df['average'], expended_m['expended date'],predictions, 'average_temp')\n",
    "# plot_1(df_la['Date'], df_la['average'], expended_m_la['expended date'],predictions_la, 'average_temp')\n",
    "\n",
    "\n"
   ]
  },
  {
   "cell_type": "code",
   "execution_count": 23,
   "id": "38284c50-2627-435f-a6e2-7a421e785be2",
   "metadata": {},
   "outputs": [],
   "source": [
    "# plt.scatter(df['Date'], df['average'],  color='black',label = 'Measured Average/m')\n",
    "# plt.scatter(df_min['Date'], df_min['min'],  color='blue',label = 'Measured Minimum/y')\n",
    "# plt.scatter(df_max['Date'], df_max['max'],  color='red',label = 'Measured Maximum/y')\n",
    "\n",
    "\n",
    "\n",
    "# plt.plot(expended_m['expended date'],predictions, color='k', linewidth=3,label='Predicted Average/m')\n",
    "# plt.plot(expended['expended date'],predictions_min, color='blue', linewidth=3,label='Predicted Minimum/y')\n",
    "# plt.plot(expended['expended date'],predictions_max, color='red', linewidth=3,label='Predicted Maximum/y')\n",
    "\n",
    "\n",
    "\n",
    "# plt.legend(fontsize = 25)\n",
    "\n",
    "\n",
    "\n",
    "\n",
    "\n",
    "# plt.xlabel('Time [year]',fontsize = 25)\n",
    "# plt.ylabel('Temperature [F]',fontsize = 25)\n",
    "# plt.yticks(fontsize=25)\n",
    "# plt.xticks(fontsize=25)\n",
    "# plt.axhline(y=32, color='k', linestyle='-')\n",
    "# plt.savefig('3in1.png',dpi=400)\n",
    "    \n",
    "# plt.show()"
   ]
  },
  {
   "cell_type": "code",
   "execution_count": 24,
   "id": "647f29bc-95b9-4f54-a5ac-74f476d12c88",
   "metadata": {},
   "outputs": [],
   "source": [
    "# df_la['average'].describe()"
   ]
  },
  {
   "cell_type": "code",
   "execution_count": 25,
   "id": "f852fe07-d0a9-4c31-9d55-925c50bdc15f",
   "metadata": {},
   "outputs": [],
   "source": [
    "# plt.scatter(df_la['Date'], df_la['average'],  color='black',label = 'Measured Average/m')\n",
    "# plt.scatter(df_min_la['Date'], df_min_la['min'],  color='blue',label = 'Measured Minimum/y')\n",
    "# plt.scatter(df_max_la['Date'], df_max_la['max'],  color='red',label = 'Measured Maximum/y')\n",
    "\n",
    "\n",
    "\n",
    "# plt.plot(expended_m_la['expended date'],predictions_la, color='k', linewidth=3,label='Predicted Average/m')\n",
    "# plt.plot(expended_la['expended date'],predictions_min_la, color='blue', linewidth=3,label='Predicted Minimum/y')\n",
    "# plt.plot(expended_la['expended date'],predictions_max_la, color='red', linewidth=3,label='Predicted Maximum/y')\n",
    "\n",
    "\n",
    "\n",
    "# plt.legend(fontsize = 25)\n",
    "\n",
    "\n",
    "\n",
    "\n",
    "\n",
    "# plt.xlabel('Time [year]',fontsize = 25)\n",
    "# plt.ylabel('Temperature [F]',fontsize = 25)\n",
    "# plt.yticks(fontsize=25)\n",
    "# plt.xticks(fontsize=25)\n",
    "# #plt.axhline(y=32, color='k', linestyle='-')\n",
    "# plt.savefig('3in1_la.png',dpi=400)\n",
    "    \n",
    "# plt.show()"
   ]
  },
  {
   "cell_type": "code",
   "execution_count": 26,
   "id": "90c4351e-bf19-4a4d-83d7-061949355a4c",
   "metadata": {},
   "outputs": [],
   "source": [
    "# expended_m_2 = expended_m[expended_m['expended date'] > '2000-01-31']\n",
    "# expended_2 = expended[expended['expended date'] > '2000-01-31']\n",
    "\n",
    "# expended_m_2_la = expended_m_la[expended_m_la['expended date'] > '2000-01-31']\n",
    "# expended_2_la = expended_la[expended_la['expended date'] > '2000-01-31']"
   ]
  },
  {
   "cell_type": "code",
   "execution_count": 27,
   "id": "f20d89ea-8bcb-42fb-b07f-977613bb0f5a",
   "metadata": {},
   "outputs": [],
   "source": [
    "# df2 = df[df['Date'] >  '2000-01-31']\n",
    "# df_min2 = df_min[df_min['Date'] > '2000-01-31']\n",
    "# df_max2 = df_max[df_max['Date'] > '2000-01-31']\n",
    "\n",
    "# df_la2 = df_la[df_la['Date'] >  '2000-01-31']\n",
    "# df_min_la2 = df_min_la[df_min_la['Date'] > '2000-01-31']\n",
    "# df_max_la2 = df_max_la[df_max_la['Date'] > '2000-01-31']"
   ]
  },
  {
   "cell_type": "code",
   "execution_count": 28,
   "id": "cc87b88d-ce09-4e8a-aa30-ff6851949764",
   "metadata": {},
   "outputs": [],
   "source": [
    "# predictions_max2 = prediction_lin(df_max2,expended_2,'max')\n",
    "# predictions2 = prediction_lin(df2,expended_m_2,'average')\n",
    "\n",
    "# predictions_min2 = prediction_lin(df_min,expended_2,'min')\n",
    "\n",
    "\n",
    "# predictions_max_la2 = prediction_lin(df_max_la2,expended_2_la,'max')\n",
    "# predictions_la2 = prediction_lin(df_la2,expended_m_2_la,'average')\n",
    "\n",
    "# predictions_min_la2 = prediction_lin(df_min_la2,expended_2_la,'min')\n"
   ]
  },
  {
   "cell_type": "code",
   "execution_count": 29,
   "id": "bc3f21ca-2051-49da-9690-997bd97fc6d6",
   "metadata": {},
   "outputs": [],
   "source": [
    "# plt.scatter(df2['Date'], df2['average'],  color='black',label = 'Measured Average/m')\n",
    "# plt.scatter(df_min2['Date'], df_min2['min'],  color='blue',label = 'Measured Minimum/y')\n",
    "# plt.scatter(df_max2['Date'], df_max2['max'],  color='red',label = 'Measured Maximum/y')\n",
    "\n",
    "\n",
    "\n",
    "# plt.plot(expended_m_2['expended date'],predictions2, color='k', linewidth=3,label='Predicted Average/m')\n",
    "# plt.plot(expended_2['expended date'],predictions_min2, color='blue', linewidth=3,label='Predicted Minimum/y')\n",
    "# plt.plot(expended_2['expended date'],predictions_max2, color='red', linewidth=3,label='Predicted Maximum/y')\n",
    "\n",
    "\n",
    "\n",
    "# plt.legend(fontsize = 25)\n",
    "\n",
    "\n",
    "\n",
    "\n",
    "\n",
    "# plt.xlabel('Time [year]',fontsize = 25)\n",
    "# plt.ylabel('Temperature [F]',fontsize = 25)\n",
    "# plt.yticks(fontsize=25)\n",
    "# plt.xticks(fontsize=25)\n",
    "# plt.axhline(y=32, color='cyan', linestyle='-')\n",
    "# plt.savefig('3in1_zoom.png',dpi=400)\n",
    "    \n",
    "# plt.show()"
   ]
  },
  {
   "cell_type": "code",
   "execution_count": 30,
   "id": "29acf3d5-9984-429b-a3bd-4524d0006476",
   "metadata": {},
   "outputs": [],
   "source": [
    "# plt.scatter(df_la2['Date'], df_la2['average'],  color='black',label = 'Measured Average/m')\n",
    "# plt.scatter(df_min_la2['Date'], df_min_la2['min'],  color='blue',label = 'Measured Minimum/y')\n",
    "# plt.scatter(df_max_la2['Date'], df_max_la2['max'],  color='red',label = 'Measured Maximum/y')\n",
    "\n",
    "\n",
    "\n",
    "# plt.plot(expended_m_2_la['expended date'],predictions_la2, color='k', linewidth=3,label='Predicted Average/m')\n",
    "# plt.plot(expended_2_la['expended date'],predictions_min_la2, color='blue', linewidth=3,label='Predicted Minimum/y')\n",
    "# plt.plot(expended_2_la['expended date'],predictions_max_la2, color='red', linewidth=3,label='Predicted Maximum/y')\n",
    "\n",
    "\n",
    "\n",
    "# plt.legend(fontsize = 25)\n",
    "\n",
    "\n",
    "\n",
    "\n",
    "\n",
    "# plt.xlabel('Time [year]',fontsize = 25)\n",
    "# plt.ylabel('Temperature [F]',fontsize = 25)\n",
    "# plt.yticks(fontsize=25)\n",
    "# plt.xticks(fontsize=25)\n",
    "# #plt.axhline(y=32, color='cyan', linestyle='-')\n",
    "# plt.savefig('3in1_zoom_la.png',dpi=400)\n",
    "    \n",
    "# plt.show()"
   ]
  },
  {
   "cell_type": "code",
   "execution_count": 31,
   "id": "6112191a-8f0b-45a2-94a8-8f04a5c96c83",
   "metadata": {},
   "outputs": [],
   "source": [
    "# df_ny"
   ]
  },
  {
   "cell_type": "code",
   "execution_count": 32,
   "id": "2816fe93-ab2c-4744-be66-c7638367ce72",
   "metadata": {},
   "outputs": [
    {
     "data": {
      "text/html": [
       "<div>\n",
       "<style scoped>\n",
       "    .dataframe tbody tr th:only-of-type {\n",
       "        vertical-align: middle;\n",
       "    }\n",
       "\n",
       "    .dataframe tbody tr th {\n",
       "        vertical-align: top;\n",
       "    }\n",
       "\n",
       "    .dataframe thead th {\n",
       "        text-align: right;\n",
       "    }\n",
       "</style>\n",
       "<table border=\"1\" class=\"dataframe\">\n",
       "  <thead>\n",
       "    <tr style=\"text-align: right;\">\n",
       "      <th></th>\n",
       "      <th>Date</th>\n",
       "      <th>Value</th>\n",
       "      <th>Anomaly</th>\n",
       "    </tr>\n",
       "  </thead>\n",
       "  <tbody>\n",
       "    <tr>\n",
       "      <th>0</th>\n",
       "      <td>1895-01-01</td>\n",
       "      <td>29.7</td>\n",
       "      <td>-2.0</td>\n",
       "    </tr>\n",
       "    <tr>\n",
       "      <th>1</th>\n",
       "      <td>1895-02-01</td>\n",
       "      <td>24.3</td>\n",
       "      <td>-8.0</td>\n",
       "    </tr>\n",
       "  </tbody>\n",
       "</table>\n",
       "</div>"
      ],
      "text/plain": [
       "        Date  Value  Anomaly\n",
       "0 1895-01-01   29.7     -2.0\n",
       "1 1895-02-01   24.3     -8.0"
      ]
     },
     "execution_count": 32,
     "metadata": {},
     "output_type": "execute_result"
    }
   ],
   "source": [
    "df_ny = pd.read_csv('NY_temp_noaa.csv',skiprows=4)\n",
    "df_ny['Date']= pd.to_datetime(df_ny['Date'], format='%Y%m')\n",
    "df_ny.head(2)"
   ]
  },
  {
   "cell_type": "code",
   "execution_count": 33,
   "id": "93898ad7-9aff-475d-965c-84f7857f7343",
   "metadata": {},
   "outputs": [
    {
     "data": {
      "text/html": [
       "<div>\n",
       "<style scoped>\n",
       "    .dataframe tbody tr th:only-of-type {\n",
       "        vertical-align: middle;\n",
       "    }\n",
       "\n",
       "    .dataframe tbody tr th {\n",
       "        vertical-align: top;\n",
       "    }\n",
       "\n",
       "    .dataframe thead th {\n",
       "        text-align: right;\n",
       "    }\n",
       "</style>\n",
       "<table border=\"1\" class=\"dataframe\">\n",
       "  <thead>\n",
       "    <tr style=\"text-align: right;\">\n",
       "      <th></th>\n",
       "      <th>Value</th>\n",
       "      <th>Anomaly</th>\n",
       "    </tr>\n",
       "    <tr>\n",
       "      <th>Date</th>\n",
       "      <th></th>\n",
       "      <th></th>\n",
       "    </tr>\n",
       "  </thead>\n",
       "  <tbody>\n",
       "    <tr>\n",
       "      <th>1895-01-01</th>\n",
       "      <td>29.7</td>\n",
       "      <td>-2.0</td>\n",
       "    </tr>\n",
       "    <tr>\n",
       "      <th>1895-02-01</th>\n",
       "      <td>24.3</td>\n",
       "      <td>-8.0</td>\n",
       "    </tr>\n",
       "    <tr>\n",
       "      <th>1895-03-01</th>\n",
       "      <td>35.9</td>\n",
       "      <td>-4.9</td>\n",
       "    </tr>\n",
       "    <tr>\n",
       "      <th>1895-04-01</th>\n",
       "      <td>49.7</td>\n",
       "      <td>-1.5</td>\n",
       "    </tr>\n",
       "    <tr>\n",
       "      <th>1895-05-01</th>\n",
       "      <td>63.0</td>\n",
       "      <td>1.0</td>\n",
       "    </tr>\n",
       "    <tr>\n",
       "      <th>...</th>\n",
       "      <td>...</td>\n",
       "      <td>...</td>\n",
       "    </tr>\n",
       "    <tr>\n",
       "      <th>2021-08-01</th>\n",
       "      <td>77.6</td>\n",
       "      <td>3.1</td>\n",
       "    </tr>\n",
       "    <tr>\n",
       "      <th>2021-09-01</th>\n",
       "      <td>70.3</td>\n",
       "      <td>2.6</td>\n",
       "    </tr>\n",
       "    <tr>\n",
       "      <th>2021-10-01</th>\n",
       "      <td>62.0</td>\n",
       "      <td>4.9</td>\n",
       "    </tr>\n",
       "    <tr>\n",
       "      <th>2021-11-01</th>\n",
       "      <td>46.3</td>\n",
       "      <td>0.4</td>\n",
       "    </tr>\n",
       "    <tr>\n",
       "      <th>2021-12-01</th>\n",
       "      <td>43.8</td>\n",
       "      <td>8.3</td>\n",
       "    </tr>\n",
       "  </tbody>\n",
       "</table>\n",
       "<p>1524 rows × 2 columns</p>\n",
       "</div>"
      ],
      "text/plain": [
       "            Value  Anomaly\n",
       "Date                      \n",
       "1895-01-01   29.7     -2.0\n",
       "1895-02-01   24.3     -8.0\n",
       "1895-03-01   35.9     -4.9\n",
       "1895-04-01   49.7     -1.5\n",
       "1895-05-01   63.0      1.0\n",
       "...           ...      ...\n",
       "2021-08-01   77.6      3.1\n",
       "2021-09-01   70.3      2.6\n",
       "2021-10-01   62.0      4.9\n",
       "2021-11-01   46.3      0.4\n",
       "2021-12-01   43.8      8.3\n",
       "\n",
       "[1524 rows x 2 columns]"
      ]
     },
     "execution_count": 33,
     "metadata": {},
     "output_type": "execute_result"
    }
   ],
   "source": [
    "\n",
    "df_ny['Date'] = pd.to_datetime(df_ny['Date'])\n",
    "df_ny = df_ny.set_index('Date')\n",
    "df_ny"
   ]
  },
  {
   "cell_type": "code",
   "execution_count": 34,
   "id": "71dbc5eb-5e14-4054-8035-dae882461ec3",
   "metadata": {},
   "outputs": [],
   "source": [
    "df_ny_new = df_ny.drop(['Anomaly'], axis = 1)\n",
    "df_ny_new['Date2'] = df_ny_new.index.to_julian_date()\n"
   ]
  },
  {
   "cell_type": "code",
   "execution_count": 35,
   "id": "c1acb0fe-8d06-4c5c-bf75-7f57a3bf38e4",
   "metadata": {},
   "outputs": [],
   "source": [
    "df_ny_new['sin(year)'] = np.sin(df_ny_new['Date2'] / 12 * 2 * np.pi)\n",
    "df_ny_new['cos(year)'] = np.cos(df_ny_new['Date2'] / 12 * 2 * np.pi)\n",
    "df_ny_new['sin(6mo)'] = np.sin(df_ny_new['Date2'] / (6 ) * 2 * np.pi)\n",
    "df_ny_new['cos(6mo)'] = np.cos(df_ny_new['Date2'] / (6 ) * 2 * np.pi)"
   ]
  },
  {
   "cell_type": "code",
   "execution_count": 36,
   "id": "d78a6c98-16ec-4ce3-849c-d36129dcb38a",
   "metadata": {},
   "outputs": [
    {
     "data": {
      "text/html": [
       "<div>\n",
       "<style scoped>\n",
       "    .dataframe tbody tr th:only-of-type {\n",
       "        vertical-align: middle;\n",
       "    }\n",
       "\n",
       "    .dataframe tbody tr th {\n",
       "        vertical-align: top;\n",
       "    }\n",
       "\n",
       "    .dataframe thead th {\n",
       "        text-align: right;\n",
       "    }\n",
       "</style>\n",
       "<table border=\"1\" class=\"dataframe\">\n",
       "  <thead>\n",
       "    <tr style=\"text-align: right;\">\n",
       "      <th></th>\n",
       "      <th>Value</th>\n",
       "      <th>Date2</th>\n",
       "      <th>sin(year)</th>\n",
       "      <th>cos(year)</th>\n",
       "      <th>sin(6mo)</th>\n",
       "      <th>cos(6mo)</th>\n",
       "    </tr>\n",
       "    <tr>\n",
       "      <th>Date</th>\n",
       "      <th></th>\n",
       "      <th></th>\n",
       "      <th></th>\n",
       "      <th></th>\n",
       "      <th></th>\n",
       "      <th></th>\n",
       "    </tr>\n",
       "  </thead>\n",
       "  <tbody>\n",
       "    <tr>\n",
       "      <th>1895-01-01</th>\n",
       "      <td>29.7</td>\n",
       "      <td>2413194.5</td>\n",
       "      <td>-0.258819</td>\n",
       "      <td>-0.965926</td>\n",
       "      <td>0.5</td>\n",
       "      <td>8.660254e-01</td>\n",
       "    </tr>\n",
       "    <tr>\n",
       "      <th>1895-02-01</th>\n",
       "      <td>24.3</td>\n",
       "      <td>2413225.5</td>\n",
       "      <td>0.707107</td>\n",
       "      <td>0.707107</td>\n",
       "      <td>1.0</td>\n",
       "      <td>1.134952e-10</td>\n",
       "    </tr>\n",
       "    <tr>\n",
       "      <th>1895-03-01</th>\n",
       "      <td>35.9</td>\n",
       "      <td>2413253.5</td>\n",
       "      <td>0.258819</td>\n",
       "      <td>-0.965926</td>\n",
       "      <td>-0.5</td>\n",
       "      <td>8.660254e-01</td>\n",
       "    </tr>\n",
       "    <tr>\n",
       "      <th>1895-04-01</th>\n",
       "      <td>49.7</td>\n",
       "      <td>2413284.5</td>\n",
       "      <td>0.258819</td>\n",
       "      <td>0.965926</td>\n",
       "      <td>0.5</td>\n",
       "      <td>8.660254e-01</td>\n",
       "    </tr>\n",
       "  </tbody>\n",
       "</table>\n",
       "</div>"
      ],
      "text/plain": [
       "            Value      Date2  sin(year)  cos(year)  sin(6mo)      cos(6mo)\n",
       "Date                                                                      \n",
       "1895-01-01   29.7  2413194.5  -0.258819  -0.965926       0.5  8.660254e-01\n",
       "1895-02-01   24.3  2413225.5   0.707107   0.707107       1.0  1.134952e-10\n",
       "1895-03-01   35.9  2413253.5   0.258819  -0.965926      -0.5  8.660254e-01\n",
       "1895-04-01   49.7  2413284.5   0.258819   0.965926       0.5  8.660254e-01"
      ]
     },
     "execution_count": 36,
     "metadata": {},
     "output_type": "execute_result"
    }
   ],
   "source": [
    "df_ny_new.head(4)"
   ]
  },
  {
   "cell_type": "code",
   "execution_count": 43,
   "id": "a0dfb533-01a8-4882-999f-4edaf50c84eb",
   "metadata": {},
   "outputs": [],
   "source": [
    "X_train = df_ny_new['1900':'2021'].drop(['Value'],axis = 1)\n",
    "y_train = df_ny_new.loc['1900':'2021', 'Value']\n",
    "\n",
    "X_test = df_ny_new['2017':].drop(['Value'],axis = 1)\n",
    "y_test = df_ny_new.loc[:'2017':, 'Value']\n"
   ]
  },
  {
   "cell_type": "code",
   "execution_count": 44,
   "id": "bbd76574-53cd-4ebd-8819-4d64a0a2927a",
   "metadata": {},
   "outputs": [],
   "source": [
    "from sklearn.model_selection import TimeSeriesSplit"
   ]
  },
  {
   "cell_type": "code",
   "execution_count": 45,
   "id": "b93ef4f0-e413-40ca-9602-142da611f78b",
   "metadata": {
    "tags": []
   },
   "outputs": [
    {
     "data": {
      "text/plain": [
       "Pipeline(steps=[('polynomialfeatures', PolynomialFeatures()),\n",
       "                ('linearregression', LinearRegression())])"
      ]
     },
     "execution_count": 45,
     "metadata": {},
     "output_type": "execute_result"
    }
   ],
   "source": [
    "from sklearn.preprocessing import PolynomialFeatures\n",
    "from sklearn.model_selection import GridSearchCV\n",
    "from sklearn.ensemble import RandomForestRegressor\n",
    "import sklearn.metrics as metrics\n",
    "model = RandomForestRegressor()\n",
    "from sklearn.pipeline import make_pipeline\n",
    "from sklearn.linear_model import LinearRegression\n",
    "regr = make_pipeline(PolynomialFeatures(2),LinearRegression())\n",
    "#regr = LinearRegression()\n",
    "\n",
    "#param_search = { \n",
    "#    'n_estimators': [20, 50, 100],\n",
    "#    'max_features': ['auto', 'sqrt', 'log2'],\n",
    "#    'max_depth' : [i for i in range(5,15)]\n",
    "#}\n",
    "#tscv = TimeSeriesSplit(n_splits=10)\n",
    "#gsearch = GridSearchCV(estimator=model, cv=tscv, param_grid=param_search)\n",
    "regr.fit(X_train, y_train)\n",
    "#best_score = gsearch.best_score_\n",
    "#best_model = gsearch.best_estimator_"
   ]
  },
  {
   "cell_type": "code",
   "execution_count": 46,
   "id": "4e3219b6-e75d-469c-b222-23270040adc7",
   "metadata": {},
   "outputs": [],
   "source": [
    "period = 2200-2022\n",
    "expended_2 = pd.Series(pd.date_range(\"2022-01-01\", periods=period, freq=\"y\")).to_frame(name=\"expended date\")\n",
    "expended_m_2 = pd.Series(pd.date_range(\"2022-01-01\", periods=period*12, freq=\"m\")).to_frame(name=\"expended date\")"
   ]
  },
  {
   "cell_type": "code",
   "execution_count": 47,
   "id": "ecb8f09b-181f-436d-8e87-0d7692a4b88f",
   "metadata": {},
   "outputs": [
    {
     "data": {
      "text/html": [
       "<div>\n",
       "<style scoped>\n",
       "    .dataframe tbody tr th:only-of-type {\n",
       "        vertical-align: middle;\n",
       "    }\n",
       "\n",
       "    .dataframe tbody tr th {\n",
       "        vertical-align: top;\n",
       "    }\n",
       "\n",
       "    .dataframe thead th {\n",
       "        text-align: right;\n",
       "    }\n",
       "</style>\n",
       "<table border=\"1\" class=\"dataframe\">\n",
       "  <thead>\n",
       "    <tr style=\"text-align: right;\">\n",
       "      <th></th>\n",
       "      <th>Date2</th>\n",
       "      <th>sin(year)</th>\n",
       "      <th>cos(year)</th>\n",
       "      <th>sin(6mo)</th>\n",
       "      <th>cos(6mo)</th>\n",
       "    </tr>\n",
       "    <tr>\n",
       "      <th>expended date</th>\n",
       "      <th></th>\n",
       "      <th></th>\n",
       "      <th></th>\n",
       "      <th></th>\n",
       "      <th></th>\n",
       "    </tr>\n",
       "  </thead>\n",
       "  <tbody>\n",
       "    <tr>\n",
       "      <th>2022-01-31</th>\n",
       "      <td>2459610.5</td>\n",
       "      <td>-0.420581</td>\n",
       "      <td>-1.569629</td>\n",
       "      <td>0.5</td>\n",
       "      <td>8.660254e-01</td>\n",
       "    </tr>\n",
       "    <tr>\n",
       "      <th>2022-02-28</th>\n",
       "      <td>2459638.5</td>\n",
       "      <td>-1.149049</td>\n",
       "      <td>1.149049</td>\n",
       "      <td>-1.0</td>\n",
       "      <td>-1.496558e-10</td>\n",
       "    </tr>\n",
       "    <tr>\n",
       "      <th>2022-03-31</th>\n",
       "      <td>2459669.5</td>\n",
       "      <td>0.420581</td>\n",
       "      <td>-1.569629</td>\n",
       "      <td>-0.5</td>\n",
       "      <td>8.660254e-01</td>\n",
       "    </tr>\n",
       "    <tr>\n",
       "      <th>2022-04-30</th>\n",
       "      <td>2459699.5</td>\n",
       "      <td>-0.420581</td>\n",
       "      <td>1.569629</td>\n",
       "      <td>-0.5</td>\n",
       "      <td>8.660254e-01</td>\n",
       "    </tr>\n",
       "    <tr>\n",
       "      <th>2022-05-31</th>\n",
       "      <td>2459730.5</td>\n",
       "      <td>-0.420581</td>\n",
       "      <td>-1.569629</td>\n",
       "      <td>0.5</td>\n",
       "      <td>8.660254e-01</td>\n",
       "    </tr>\n",
       "    <tr>\n",
       "      <th>...</th>\n",
       "      <td>...</td>\n",
       "      <td>...</td>\n",
       "      <td>...</td>\n",
       "      <td>...</td>\n",
       "      <td>...</td>\n",
       "    </tr>\n",
       "    <tr>\n",
       "      <th>2199-08-31</th>\n",
       "      <td>2524470.5</td>\n",
       "      <td>-0.420581</td>\n",
       "      <td>-1.569629</td>\n",
       "      <td>0.5</td>\n",
       "      <td>8.660254e-01</td>\n",
       "    </tr>\n",
       "    <tr>\n",
       "      <th>2199-09-30</th>\n",
       "      <td>2524500.5</td>\n",
       "      <td>0.420581</td>\n",
       "      <td>1.569629</td>\n",
       "      <td>0.5</td>\n",
       "      <td>8.660254e-01</td>\n",
       "    </tr>\n",
       "    <tr>\n",
       "      <th>2199-10-31</th>\n",
       "      <td>2524531.5</td>\n",
       "      <td>-1.149049</td>\n",
       "      <td>-1.149049</td>\n",
       "      <td>1.0</td>\n",
       "      <td>1.012488e-10</td>\n",
       "    </tr>\n",
       "    <tr>\n",
       "      <th>2199-11-30</th>\n",
       "      <td>2524561.5</td>\n",
       "      <td>1.149049</td>\n",
       "      <td>1.149049</td>\n",
       "      <td>1.0</td>\n",
       "      <td>-8.031500e-11</td>\n",
       "    </tr>\n",
       "    <tr>\n",
       "      <th>2199-12-31</th>\n",
       "      <td>2524592.5</td>\n",
       "      <td>-1.569629</td>\n",
       "      <td>-0.420581</td>\n",
       "      <td>0.5</td>\n",
       "      <td>-8.660254e-01</td>\n",
       "    </tr>\n",
       "  </tbody>\n",
       "</table>\n",
       "<p>2136 rows × 5 columns</p>\n",
       "</div>"
      ],
      "text/plain": [
       "                   Date2  sin(year)  cos(year)  sin(6mo)      cos(6mo)\n",
       "expended date                                                         \n",
       "2022-01-31     2459610.5  -0.420581  -1.569629       0.5  8.660254e-01\n",
       "2022-02-28     2459638.5  -1.149049   1.149049      -1.0 -1.496558e-10\n",
       "2022-03-31     2459669.5   0.420581  -1.569629      -0.5  8.660254e-01\n",
       "2022-04-30     2459699.5  -0.420581   1.569629      -0.5  8.660254e-01\n",
       "2022-05-31     2459730.5  -0.420581  -1.569629       0.5  8.660254e-01\n",
       "...                  ...        ...        ...       ...           ...\n",
       "2199-08-31     2524470.5  -0.420581  -1.569629       0.5  8.660254e-01\n",
       "2199-09-30     2524500.5   0.420581   1.569629       0.5  8.660254e-01\n",
       "2199-10-31     2524531.5  -1.149049  -1.149049       1.0  1.012488e-10\n",
       "2199-11-30     2524561.5   1.149049   1.149049       1.0 -8.031500e-11\n",
       "2199-12-31     2524592.5  -1.569629  -0.420581       0.5 -8.660254e-01\n",
       "\n",
       "[2136 rows x 5 columns]"
      ]
     },
     "execution_count": 47,
     "metadata": {},
     "output_type": "execute_result"
    }
   ],
   "source": [
    "predi = pd.to_datetime(expended_m_2['expended date'])\n",
    "predi = pd.DataFrame(predi)\n",
    "predi = predi.set_index('expended date')\n",
    "predi['Date2'] = predi.index.to_julian_date()\n",
    "predi['sin(year)'] = 1.625*np.sin(predi['Date2'] / 12 * 2 * np.pi)\n",
    "predi['cos(year)'] = 1.625*np.cos(predi['Date2'] / 12 * 2 * np.pi)\n",
    "predi['sin(6mo)'] = np.sin(predi['Date2'] / (6 ) * 2 * np.pi)\n",
    "predi['cos(6mo)'] = np.cos(predi['Date2'] / (6 ) * 2 * np.pi)\n",
    "\n",
    "predi"
   ]
  },
  {
   "cell_type": "code",
   "execution_count": 48,
   "id": "76380ab3-0ed5-41fd-ba7b-5254805dc6d6",
   "metadata": {},
   "outputs": [],
   "source": [
    "y_true = y_test.values\n",
    "y_pred = regr.predict(predi)\n",
    "y_pred = np.random.normal(y_pred, 3.5)"
   ]
  },
  {
   "cell_type": "code",
   "execution_count": 49,
   "id": "8006a258-a68d-41ed-8d4b-61ac62ff7d9f",
   "metadata": {},
   "outputs": [],
   "source": [
    "#np.random.uniform(0, 5)"
   ]
  },
  {
   "cell_type": "code",
   "execution_count": 50,
   "id": "81a5ee8f-12cf-4fdd-8910-d75e81dd0aa7",
   "metadata": {},
   "outputs": [
    {
     "data": {
      "image/png": "[encoded data removed]",
      "text/plain": [
       "<Figure size 432x288 with 1 Axes>"
      ]
     },
     "metadata": {
      "needs_background": "light"
     },
     "output_type": "display_data"
    }
   ],
   "source": [
    "\n",
    "plt.plot(df_ny_new.index,df_ny_new['Value'],'b-',label = 'Data measured')\n",
    "plt.plot(predi.index,y_pred,color='tab:orange', linestyle='-',label = 'Predictions')\n",
    "plt.axhline(y=32, color='k', linestyle='-',label = '32F')\n",
    "plt.axhline(y=85, color='red', linestyle='-',label = '85F')\n",
    "\n",
    "plt.ylim(0)\n",
    "plt.xlim(df_ny_new.index[-400],predi.index[2135])\n",
    "\n",
    "plt.legend(fontsize = 25)\n",
    "\n",
    "\n",
    "\n",
    "\n",
    "\n",
    "plt.xlabel('Time [year]',fontsize = 25)\n",
    "plt.ylabel('Temperature [F]',fontsize = 25)\n",
    "plt.yticks(fontsize=25)\n",
    "plt.xticks(fontsize=25)\n",
    "plt.grid()\n",
    "#plt.axhline(y=32, color='cyan', linestyle='-')\n",
    "plt.savefig('NY_new',dpi=600,format='pdf')\n",
    "\n",
    "\n"
   ]
  },
  {
   "cell_type": "code",
   "execution_count": null,
   "id": "5cd906c9-cac8-4e86-b25d-2a1f8b6b1b74",
   "metadata": {},
   "outputs": [],
   "source": []
  },
  {
   "cell_type": "code",
   "execution_count": 51,
   "id": "62e16d5e-dfd8-4786-9a6f-a1dc708634a6",
   "metadata": {},
   "outputs": [
    {
     "data": {
      "text/html": [
       "<div>\n",
       "<style scoped>\n",
       "    .dataframe tbody tr th:only-of-type {\n",
       "        vertical-align: middle;\n",
       "    }\n",
       "\n",
       "    .dataframe tbody tr th {\n",
       "        vertical-align: top;\n",
       "    }\n",
       "\n",
       "    .dataframe thead th {\n",
       "        text-align: right;\n",
       "    }\n",
       "</style>\n",
       "<table border=\"1\" class=\"dataframe\">\n",
       "  <thead>\n",
       "    <tr style=\"text-align: right;\">\n",
       "      <th></th>\n",
       "      <th>Date</th>\n",
       "      <th>Value</th>\n",
       "      <th>Anomaly</th>\n",
       "    </tr>\n",
       "  </thead>\n",
       "  <tbody>\n",
       "    <tr>\n",
       "      <th>0</th>\n",
       "      <td>1944-08-01</td>\n",
       "      <td>68.0</td>\n",
       "      <td>-1.8</td>\n",
       "    </tr>\n",
       "    <tr>\n",
       "      <th>1</th>\n",
       "      <td>1944-09-01</td>\n",
       "      <td>66.9</td>\n",
       "      <td>-2.2</td>\n",
       "    </tr>\n",
       "  </tbody>\n",
       "</table>\n",
       "</div>"
      ],
      "text/plain": [
       "        Date  Value  Anomaly\n",
       "0 1944-08-01   68.0     -1.8\n",
       "1 1944-09-01   66.9     -2.2"
      ]
     },
     "execution_count": 51,
     "metadata": {},
     "output_type": "execute_result"
    }
   ],
   "source": [
    "df_la = pd.read_csv('LA_temp_noaa.csv',skiprows=4)\n",
    "df_la['Date']= pd.to_datetime(df_la['Date'], format='%Y%m')\n",
    "df_la.head(2)"
   ]
  },
  {
   "cell_type": "code",
   "execution_count": 52,
   "id": "252d5418-1a8f-4765-9288-2dfa22743f13",
   "metadata": {},
   "outputs": [],
   "source": [
    "df_la['Date'] = pd.to_datetime(df_la['Date'])\n",
    "df_la = df_la.set_index('Date')"
   ]
  },
  {
   "cell_type": "code",
   "execution_count": 53,
   "id": "d0aaa837-f80f-4c2d-914f-0ad09361ff90",
   "metadata": {},
   "outputs": [],
   "source": [
    "df_la_new = df_la.drop(['Anomaly'], axis = 1)\n",
    "df_la_new['Date2'] = df_la_new.index.to_julian_date()\n"
   ]
  },
  {
   "cell_type": "code",
   "execution_count": 54,
   "id": "33610f6a-132f-4c56-ad36-9c011dd56feb",
   "metadata": {},
   "outputs": [],
   "source": [
    "df_la_new['sin(year)'] = np.sin(df_la_new['Date2'] / 12 * 2 * np.pi)\n",
    "df_la_new['cos(year)'] = np.cos(df_la_new['Date2'] / 12 * 2 * np.pi)\n",
    "df_la_new['sin(6mo)'] = np.sin(df_la_new['Date2'] / (6 ) * 2 * np.pi)\n",
    "df_la_new['cos(6mo)'] = np.cos(df_la_new['Date2'] / (6 ) * 2 * np.pi)"
   ]
  },
  {
   "cell_type": "code",
   "execution_count": 55,
   "id": "f87ae9b2-43b6-4f2c-80c8-8c14ef882507",
   "metadata": {},
   "outputs": [],
   "source": [
    "X_train = df_la_new[:'2021'].drop(['Value'],axis = 1)\n",
    "y_train = df_la_new.loc[:'2021', 'Value']"
   ]
  },
  {
   "cell_type": "code",
   "execution_count": 56,
   "id": "86b231c4-a5d6-4758-a78c-b4f7cfb45631",
   "metadata": {},
   "outputs": [
    {
     "data": {
      "text/plain": [
       "Pipeline(steps=[('polynomialfeatures', PolynomialFeatures()),\n",
       "                ('linearregression', LinearRegression())])"
      ]
     },
     "execution_count": 56,
     "metadata": {},
     "output_type": "execute_result"
    }
   ],
   "source": [
    "from sklearn.preprocessing import PolynomialFeatures\n",
    "from sklearn.model_selection import GridSearchCV\n",
    "from sklearn.ensemble import RandomForestRegressor\n",
    "import sklearn.metrics as metrics\n",
    "model = RandomForestRegressor()\n",
    "from sklearn.pipeline import make_pipeline\n",
    "from sklearn.linear_model import LinearRegression\n",
    "regr = make_pipeline(PolynomialFeatures(2),LinearRegression())\n",
    "#regr = LinearRegression()\n",
    "\n",
    "#param_search = { \n",
    "#    'n_estimators': [20, 50, 100],\n",
    "#    'max_features': ['auto', 'sqrt', 'log2'],\n",
    "#    'max_depth' : [i for i in range(5,15)]\n",
    "#}\n",
    "#tscv = TimeSeriesSplit(n_splits=10)\n",
    "#gsearch = GridSearchCV(estimator=model, cv=tscv, param_grid=param_search)\n",
    "regr.fit(X_train, y_train)"
   ]
  },
  {
   "cell_type": "code",
   "execution_count": 57,
   "id": "3f8d92f9-df0a-4c51-ba8f-18afc21b7d2f",
   "metadata": {},
   "outputs": [],
   "source": [
    "predi = pd.to_datetime(expended_m_2['expended date'])\n",
    "predi = pd.DataFrame(predi)\n",
    "predi = predi.set_index('expended date')\n",
    "predi['Date2'] = predi.index.to_julian_date()\n",
    "predi['sin(year)'] = 1.25*np.sin(predi['Date2'] / 12 * 2 * np.pi)\n",
    "predi['cos(year)'] = 1.25*np.cos(predi['Date2'] / 12 * 2 * np.pi)\n",
    "predi['sin(6mo)'] = np.sin(predi['Date2'] / (6 ) * 2 * np.pi)\n",
    "predi['cos(6mo)'] = np.cos(predi['Date2'] / (6 ) * 2 * np.pi)"
   ]
  },
  {
   "cell_type": "code",
   "execution_count": 58,
   "id": "7ab1b021-387b-4638-a901-1bdb8cd483f4",
   "metadata": {},
   "outputs": [],
   "source": [
    "y_true = y_test.values\n",
    "y_pred = regr.predict(predi)\n",
    "y_pred = np.random.normal(y_pred, 3.5)"
   ]
  },
  {
   "cell_type": "code",
   "execution_count": 59,
   "id": "7891b4cf-d072-44e3-b6a9-9ab0955f9bb7",
   "metadata": {},
   "outputs": [
    {
     "data": {
      "image/png": "[encoded data removed]",
      "text/plain": [
       "<Figure size 432x288 with 1 Axes>"
      ]
     },
     "metadata": {
      "needs_background": "light"
     },
     "output_type": "display_data"
    }
   ],
   "source": [
    "plt.plot(df_la_new.index,df_la_new['Value'],'b-', label='Data measured')\n",
    "plt.plot(predi.index,y_pred,color='tab:orange', linestyle='-', label = 'Predictions')\n",
    "#plt.axhline(y=32, color='blue', linestyle='-')\n",
    "plt.axhline(y=85, color='red', linestyle='-', label = '85F')\n",
    "\n",
    "plt.ylim(40)\n",
    "plt.xlim(df_la_new.index[-400],predi.index[2135])\n",
    "\n",
    "\n",
    "plt.xlabel('Time [year]',fontsize = 25)\n",
    "plt.ylabel('Temperature [F]',fontsize = 25)\n",
    "plt.yticks(fontsize=25)\n",
    "plt.xticks(fontsize=25)\n",
    "plt.legend(fontsize = 25)\n",
    "\n",
    "#plt.axhline(y=32, color='cyan', linestyle='-')\n",
    "plt.grid()\n",
    "plt.savefig('LA_new',dpi=600,format='pdf')\n",
    "\n"
   ]
  },
  {
   "cell_type": "code",
   "execution_count": null,
   "id": "e80e94e5-e26a-4e15-ad76-642b875f8426",
   "metadata": {},
   "outputs": [],
   "source": []
  }
 ],
 "metadata": {
  "kernelspec": {
   "display_name": "Python 3 (ipykernel)",
   "language": "python",
   "name": "python3"
  },
  "language_info": {
   "codemirror_mode": {
    "name": "ipython",
    "version": 3
   },
   "file_extension": ".py",
   "mimetype": "text/x-python",
   "name": "python",
   "nbconvert_exporter": "python",
   "pygments_lexer": "ipython3",
   "version": "3.8.11"
  }
 },
 "nbformat": 4,
 "nbformat_minor": 5
}
